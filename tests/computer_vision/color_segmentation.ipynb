{
 "cells": [
  {
   "cell_type": "code",
   "execution_count": null,
   "metadata": {},
   "outputs": [],
   "source": [
    "\n",
    "link = 'https://colab.research.google.com/drive/1iQzZh85aZScOLFqr-fBQBeN2LcSt_8Jj#scrollTo=3gr3wKozfWAZ'\n",
    "\n",
    "img_hsv = cv2.cvtColor(img, cv2.COLOR_BGR2HSV)\n",
    "\n",
    "# Set range for red color.\n",
    "r_lb = np.array([165, 50, 50], np.uint8)\n",
    "r_ub = np.array([180, 255, 255], np.uint8)\n",
    "\n",
    "# Set range for green color.\n",
    "g_lb = np.array([35, 50, 50], np.uint8)\n",
    "g_ub = np.array([80, 255, 255], np.uint8)\n",
    "\n",
    "# Set range for blue color.\n",
    "b_lb = np.array([95, 50, 50], np.uint8)\n",
    "b_ub = np.array([125, 255, 255], np.uint8)\n",
    "\n",
    "\n",
    "dst = cv2.inRange(src, lowerb, upperb[, dst]) \n",
    "\n",
    "r_mask = cv2.inRange(img_hsv, r_lb, r_ub)\n",
    "g_mask = cv2.inRange(img_hsv, g_lb, g_ub)\n",
    "b_mask = cv2.inRange(img_hsv, b_lb, b_ub)\n",
    "\n",
    "# Display each color mask.\n",
    "plt.figure(figsize = (18, 4))\n",
    "plt.subplot(131); \n",
    "plt.imshow(r_mask); \n",
    "plt.title('Red Mask')\n",
    "plt.subplot(132); \n",
    "plt.imshow(g_mask); \n",
    "plt.title('Green Mask')\n",
    "plt.subplot(133); \n",
    "plt.imshow(b_mask); plt.title('Blue Mask');\n",
    "\n",
    "\n",
    "# Segment the colors.\n",
    "r_seg = cv2.bitwise_and(img, img, mask = r_mask)\n",
    "g_seg = cv2.bitwise_and(img, img, mask = g_mask)\n",
    "b_seg = cv2.bitwise_and(img, img, mask = b_mask)\n",
    "\n",
    "# Display the segmented colors.\n",
    "plt.figure(figsize = (18, 4))\n",
    "plt.subplot(131); plt.imshow(r_seg[:, :, ::-1]); plt.title('Red Color Segmented')\n",
    "plt.subplot(132); plt.imshow(g_seg[:, :, ::-1]); plt.title('Green Color Segmented')\n",
    "plt.subplot(133); plt.imshow(b_seg[:, :, ::-1]); plt.title('Blue Color Segmented');"
   ]
  },
  {
   "cell_type": "code",
   "execution_count": null,
   "metadata": {},
   "outputs": [],
   "source": []
  },
  {
   "cell_type": "markdown",
   "metadata": {},
   "source": [
    "Link del progetto di Colab\n",
    "\n",
    "https://colab.research.google.com/drive/1iQzZh85aZScOLFqr-fBQBeN2LcSt_8Jj#scrollTo=3gr3wKozfWAZ"
   ]
  }
 ],
 "metadata": {
  "language_info": {
   "name": "python"
  },
  "orig_nbformat": 4
 },
 "nbformat": 4,
 "nbformat_minor": 2
}
